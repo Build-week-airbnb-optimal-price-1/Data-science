{
 "cells": [
  {
   "cell_type": "code",
   "execution_count": 1,
   "metadata": {},
   "outputs": [
    {
     "name": "stderr",
     "output_type": "stream",
     "text": [
      "/Users/karthikmahendra/anaconda3/lib/python3.7/site-packages/IPython/core/interactiveshell.py:3296: DtypeWarning: Columns (61,62) have mixed types. Specify dtype option on import or set low_memory=False.\n",
      "  exec(code_obj, self.user_global_ns, self.user_ns)\n"
     ]
    },
    {
     "name": "stdout",
     "output_type": "stream",
     "text": [
      "station is repeated 3596 times.\n",
      "tokyo is repeated 2405 times.\n",
      "room is repeated 2284 times.\n",
      "shinjuku is repeated 1665 times.\n",
      "line is repeated 1322 times.\n",
      "minutes is repeated 1235 times.\n",
      "house is repeated 1126 times.\n",
      "min is repeated 1057 times.\n",
      "walk is repeated 980 times.\n",
      "asakusa is repeated 837 times.\n",
      "bed is repeated 823 times.\n",
      "jr is repeated 789 times.\n",
      "area is repeated 787 times.\n",
      "airport is repeated 766 times.\n",
      "apartment is repeated 724 times.\n",
      "mins is repeated 723 times.\n",
      "ikebukuro is repeated 720 times.\n",
      "access is repeated 686 times.\n",
      "shibuya is repeated 641 times.\n",
      "rooms is repeated 632 times.\n",
      "restaurants is repeated 586 times.\n",
      "shopping is repeated 583 times.\n",
      "kitchen is repeated 581 times.\n",
      "stores is repeated 580 times.\n",
      "hotel is repeated 575 times.\n",
      "ueno is repeated 567 times.\n",
      "convenience is repeated 510 times.\n",
      "akihabara is repeated 497 times.\n",
      "floor is repeated 483 times.\n",
      "haneda is repeated 482 times.\n",
      "train is repeated 476 times.\n",
      "bathroom is repeated 470 times.\n",
      "ginza is repeated 446 times.\n",
      "foot is repeated 391 times.\n",
      "store is repeated 372 times.\n",
      "guests is repeated 366 times.\n",
      "building is repeated 365 times.\n",
      "narita is repeated 334 times.\n",
      "sta is repeated 331 times.\n",
      "place is repeated 327 times.\n",
      "tv is repeated 322 times.\n",
      "people is repeated 311 times.\n",
      "wi is repeated 303 times.\n",
      "toilet is repeated 302 times.\n",
      "shops is repeated 299 times.\n",
      "metro is repeated 299 times.\n",
      "air is repeated 298 times.\n",
      "shower is repeated 296 times.\n",
      "japan is repeated 295 times.\n",
      "fi is repeated 292 times.\n",
      "beds is repeated 285 times.\n",
      "wifi is repeated 278 times.\n",
      "microwave is repeated 275 times.\n",
      "city is repeated 266 times.\n",
      "hostel is repeated 266 times.\n",
      "street is repeated 260 times.\n",
      "style is repeated 248 times.\n",
      "roppongi is repeated 245 times.\n",
      "machine is repeated 240 times.\n",
      "conditioner is repeated 238 times.\n",
      "minute is repeated 237 times.\n",
      "family is repeated 236 times.\n",
      "yamanote is repeated 234 times.\n",
      "harajuku is repeated 232 times.\n",
      "center is repeated 231 times.\n",
      "home is repeated 229 times.\n",
      "living is repeated 228 times.\n",
      "sky is repeated 222 times.\n",
      "subway is repeated 213 times.\n",
      "space is repeated 207 times.\n",
      "guest is repeated 205 times.\n",
      "sofa is repeated 203 times.\n",
      "airbnb is repeated 200 times.\n",
      "number is repeated 200 times.\n",
      "stay is repeated 200 times.\n",
      "washing is repeated 196 times.\n",
      "temple is repeated 194 times.\n",
      "accommodation is repeated 193 times.\n",
      "check is repeated 191 times.\n",
      "bath is repeated 189 times.\n",
      "location is repeated 186 times.\n",
      "bus is repeated 186 times.\n",
      "okubo is repeated 186 times.\n",
      "market is repeated 184 times.\n",
      "dryer is repeated 181 times.\n",
      "size is repeated 180 times.\n",
      "luxury is repeated 176 times.\n",
      "business is repeated 173 times.\n",
      "tourist is repeated 173 times.\n",
      "refrigerator is repeated 173 times.\n",
      "sightseeing is repeated 170 times.\n",
      "property is repeated 167 times.\n",
      "travelers is repeated 160 times.\n",
      "otsuka is repeated 153 times.\n",
      "holiday is repeated 153 times.\n",
      "park is repeated 151 times.\n",
      "nishi is repeated 151 times.\n",
      "spots is repeated 150 times.\n",
      "supermarkets is repeated 149 times.\n",
      "shin is repeated 147 times.\n",
      "screen is repeated 147 times.\n",
      "town is repeated 146 times.\n",
      "dining is repeated 145 times.\n",
      "drug is repeated 145 times.\n",
      "hair is repeated 141 times.\n",
      "tree is repeated 139 times.\n",
      "couples is repeated 139 times.\n",
      "time is repeated 136 times.\n",
      "free is repeated 135 times.\n",
      "skytree is repeated 134 times.\n",
      "facilities is repeated 133 times.\n",
      "term is repeated 132 times.\n",
      "exit is repeated 132 times.\n",
      "distance is repeated 130 times.\n",
      "cm is repeated 130 times.\n",
      "group is repeated 129 times.\n",
      "towel is repeated 128 times.\n",
      "m is repeated 127 times.\n",
      "body is repeated 125 times.\n",
      "lots is repeated 123 times.\n",
      "ryogoku is repeated 122 times.\n",
      "kettle is repeated 122 times.\n",
      "shampoo is repeated 120 times.\n",
      "stations is repeated 119 times.\n",
      "restaurant is repeated 119 times.\n",
      "friends is repeated 118 times.\n",
      "type is repeated 118 times.\n",
      "coffee is repeated 115 times.\n",
      "food is repeated 112 times.\n",
      "service is repeated 111 times.\n",
      "fridge is repeated 111 times.\n",
      "desk is repeated 110 times.\n",
      "oedo is repeated 110 times.\n",
      "website is repeated 109 times.\n",
      "staff is repeated 109 times.\n",
      "art is repeated 107 times.\n",
      "shinagawa is repeated 106 times.\n",
      "bedroom is repeated 105 times.\n",
      "tsukiji is repeated 104 times.\n",
      "system is repeated 102 times.\n",
      "km is repeated 101 times.\n",
      "lines is repeated 101 times.\n",
      "toothbrush is repeated 100 times.\n",
      "bedrooms is repeated 97 times.\n",
      "supermarket is repeated 96 times.\n",
      "nippori is repeated 95 times.\n",
      "phone is repeated 94 times.\n",
      "culture is repeated 94 times.\n",
      "bars is repeated 92 times.\n",
      "furniture is repeated 92 times.\n",
      "higashi is repeated 91 times.\n",
      "toei is repeated 91 times.\n",
      "comfy is repeated 91 times.\n",
      "sensoji is repeated 90 times.\n",
      "government is repeated 89 times.\n",
      "tatami is repeated 88 times.\n",
      "parts is repeated 88 times.\n",
      "night is repeated 87 times.\n",
      "amenities is repeated 87 times.\n",
      "tower is repeated 86 times.\n",
      "person is repeated 86 times.\n",
      "lady is repeated 86 times.\n",
      "variety is repeated 85 times.\n",
      "quality is repeated 85 times.\n",
      "toilets is repeated 84 times.\n",
      "soap is repeated 84 times.\n",
      "akasaka is repeated 84 times.\n",
      "conditioning is repeated 81 times.\n",
      "kitchenette is repeated 81 times.\n",
      "studio is repeated 80 times.\n",
      "st is repeated 80 times.\n",
      "trip is repeated 78 times.\n",
      "security is repeated 78 times.\n",
      "nakano is repeated 78 times.\n",
      "museum is repeated 77 times.\n",
      "cafe is repeated 77 times.\n",
      "garden is repeated 77 times.\n",
      "ebisu is repeated 77 times.\n",
      "hibiya is repeated 77 times.\n",
      "hours is repeated 77 times.\n",
      "estate is repeated 77 times.\n",
      "places is repeated 76 times.\n",
      "meters is repeated 74 times.\n",
      "cafes is repeated 74 times.\n",
      "tea is repeated 74 times.\n",
      "towels is repeated 73 times.\n",
      "futon is repeated 73 times.\n",
      "oshiage is repeated 73 times.\n",
      "kaminarimon is repeated 72 times.\n",
      "shrine is repeated 70 times.\n",
      "children is repeated 69 times.\n",
      "bathrooms is repeated 69 times.\n",
      "spot is repeated 69 times.\n",
      "north is repeated 69 times.\n",
      "bar is repeated 68 times.\n",
      "yokohama is repeated 68 times.\n",
      "concept is repeated 67 times.\n",
      "kuramae is repeated 67 times.\n",
      "week is repeated 67 times.\n",
      "brand is repeated 67 times.\n",
      "areas is repeated 66 times.\n",
      "downtown is repeated 65 times.\n",
      "grocery is repeated 65 times.\n",
      "internet is repeated 64 times.\n",
      "goods is repeated 64 times.\n",
      "experience is repeated 64 times.\n",
      "privacy is repeated 63 times.\n",
      "use is repeated 63 times.\n",
      "meiji is repeated 62 times.\n",
      "utensils is repeated 62 times.\n",
      "omotesando is repeated 61 times.\n",
      "pocket is repeated 61 times.\n",
      "netflix is repeated 61 times.\n",
      "travel is repeated 61 times.\n",
      "travellers is repeated 61 times.\n",
      "marunouchi is repeated 60 times.\n",
      "linens is repeated 60 times.\n",
      "single is repeated 60 times.\n",
      "slippers is repeated 60 times.\n",
      "shop is repeated 59 times.\n",
      "cooking is repeated 59 times.\n",
      "closet is repeated 59 times.\n",
      "amenity is repeated 59 times.\n",
      "ride is repeated 58 times.\n",
      "east is repeated 58 times.\n",
      "west is repeated 58 times.\n",
      "laundry is repeated 58 times.\n",
      "electric is repeated 58 times.\n",
      "iriya is repeated 57 times.\n",
      "rental is repeated 57 times.\n",
      "attractions is repeated 57 times.\n",
      "cooker is repeated 56 times.\n",
      "coin is repeated 56 times.\n",
      "atmosphere is repeated 55 times.\n",
      "district is repeated 55 times.\n",
      "senso is repeated 55 times.\n",
      "balcony is repeated 54 times.\n",
      "f is repeated 54 times.\n",
      "cho is repeated 54 times.\n",
      "floors is repeated 54 times.\n",
      "mn is repeated 54 times.\n",
      "ameyoko is repeated 54 times.\n",
      "chair is repeated 53 times.\n",
      "iron is repeated 53 times.\n",
      "families is repeated 53 times.\n",
      "solo is repeated 53 times.\n",
      "ji is repeated 53 times.\n",
      "hustle is repeated 52 times.\n",
      "sugamo is repeated 52 times.\n",
      "department is repeated 52 times.\n",
      "keihin is repeated 52 times.\n",
      "direct is repeated 52 times.\n",
      "hairdryer is repeated 51 times.\n",
      "mattress is repeated 51 times.\n",
      "keisei is repeated 51 times.\n",
      "table is repeated 51 times.\n",
      "yoyogi is repeated 50 times.\n",
      "design is repeated 50 times.\n",
      "sanchome is repeated 50 times.\n",
      "elevator is repeated 50 times.\n",
      "japanese is repeated 49 times.\n",
      "price is repeated 49 times.\n",
      "bakuro is repeated 49 times.\n",
      "yokoyama is repeated 49 times.\n",
      "breakfast is repeated 48 times.\n",
      "groups is repeated 48 times.\n",
      "dormitory is repeated 48 times.\n",
      "neighborhood is repeated 47 times.\n",
      "ramen is repeated 47 times.\n",
      "cherry is repeated 47 times.\n",
      "copy is repeated 47 times.\n",
      "heart is repeated 46 times.\n",
      "life is repeated 46 times.\n",
      "shinjyuku is repeated 46 times.\n",
      "capsule is repeated 46 times.\n",
      "entrances is repeated 46 times.\n",
      "freewi is repeated 46 times.\n",
      "museums is repeated 46 times.\n",
      "gyoen is repeated 45 times.\n",
      "company is repeated 45 times.\n",
      "view is repeated 45 times.\n",
      "rice is repeated 45 times.\n",
      "set is repeated 45 times.\n",
      "apartments is repeated 44 times.\n",
      "b is repeated 44 times.\n",
      "national is repeated 44 times.\n",
      "light is repeated 44 times.\n",
      "world is repeated 44 times.\n",
      "luggage is repeated 43 times.\n",
      "metropolitan is repeated 43 times.\n",
      "route is repeated 43 times.\n",
      "sharing is repeated 43 times.\n",
      "dishes is repeated 43 times.\n",
      "storage is repeated 43 times.\n",
      "stop is repeated 42 times.\n",
      "gochome is repeated 42 times.\n",
      "box is repeated 42 times.\n",
      "airports is repeated 41 times.\n",
      "couple is repeated 41 times.\n",
      "hikifune is repeated 41 times.\n",
      "music is repeated 41 times.\n",
      "washlet is repeated 41 times.\n",
      "transfer is repeated 41 times.\n",
      "don is repeated 41 times.\n",
      "razor is repeated 41 times.\n",
      "tourism is repeated 41 times.\n",
      "bedding is repeated 40 times.\n",
      "drugstore is repeated 40 times.\n",
      "gas is repeated 40 times.\n",
      "choice is repeated 40 times.\n",
      "minowa is repeated 40 times.\n",
      "traveler is repeated 40 times.\n",
      "tohoku is repeated 40 times.\n",
      "quijote is repeated 40 times.\n",
      "stationmin is repeated 40 times.\n",
      "disney is repeated 39 times.\n",
      "speed is repeated 39 times.\n",
      "koenji is repeated 39 times.\n",
      "keikyu is repeated 39 times.\n",
      "stove is repeated 39 times.\n",
      "ku is repeated 38 times.\n",
      "transportation is repeated 38 times.\n",
      "pot is repeated 38 times.\n",
      "kinshicho is repeated 38 times.\n",
      "bathtub is repeated 38 times.\n",
      "heater is repeated 37 times.\n",
      "day is repeated 37 times.\n",
      "need is repeated 37 times.\n",
      "water is repeated 37 times.\n",
      "con is repeated 37 times.\n",
      "shimokitazawa is repeated 36 times.\n",
      "loft is repeated 36 times.\n",
      "designer is repeated 36 times.\n",
      "new is repeated 36 times.\n",
      "express is repeated 36 times.\n",
      "gate is repeated 36 times.\n",
      "information is repeated 36 times.\n",
      "site is repeated 36 times.\n",
      "mt is repeated 36 times.\n",
      "date is repeated 36 times.\n",
      "address is repeated 35 times.\n",
      "vacation is repeated 35 times.\n",
      "fukutoshin is repeated 35 times.\n",
      "oven is repeated 35 times.\n",
      "showers is repeated 35 times.\n",
      "kamata is repeated 35 times.\n",
      "locals is repeated 35 times.\n",
      "equipment is repeated 35 times.\n",
      "terminal is repeated 35 times.\n",
      "fruit is repeated 35 times.\n",
      "imperial is repeated 34 times.\n",
      "rest is repeated 34 times.\n",
      "festival is repeated 34 times.\n",
      "outlet is repeated 34 times.\n",
      "seibu is repeated 33 times.\n",
      "tour is repeated 33 times.\n",
      "charge is repeated 33 times.\n",
      "tobu is repeated 33 times.\n",
      "clean is repeated 33 times.\n",
      "kabukicho is repeated 33 times.\n",
      "fashion is repeated 33 times.\n",
      "streets is repeated 33 times.\n",
      "matsumoto is repeated 33 times.\n",
      "base is repeated 33 times.\n",
      "toothpaste is repeated 33 times.\n",
      "lot is repeated 32 times.\n",
      "kokugikan is repeated 32 times.\n",
      "yurakucho is repeated 32 times.\n",
      "clothes is repeated 32 times.\n",
      "range is repeated 32 times.\n",
      "bunk is repeated 32 times.\n",
      "yen is repeated 31 times.\n",
      "lock is repeated 31 times.\n",
      "fuji is repeated 31 times.\n",
      "hand is repeated 31 times.\n",
      "camera is repeated 31 times.\n",
      "hour is repeated 31 times.\n",
      "stops is repeated 31 times.\n",
      "anime is repeated 31 times.\n",
      "uniqlo is repeated 31 times.\n",
      "hostels is repeated 31 times.\n",
      "sofabed is repeated 31 times.\n",
      "fire is repeated 31 times.\n",
      "hatagaya is repeated 30 times.\n",
      "sunshine is repeated 30 times.\n",
      "x is repeated 30 times.\n",
      "river is repeated 30 times.\n",
      "listing is repeated 30 times.\n",
      "asakusabashi is repeated 30 times.\n",
      "edo is repeated 30 times.\n",
      "ryokan is repeated 30 times.\n",
      "bashi is repeated 30 times.\n",
      "checkout is repeated 30 times.\n",
      "stall is repeated 30 times.\n",
      "budget is repeated 30 times.\n",
      "taxi is repeated 29 times.\n",
      "yotsuya is repeated 29 times.\n",
      "entertainment is repeated 29 times.\n",
      "drugstores is repeated 29 times.\n",
      "sobu is repeated 29 times.\n",
      "needs is repeated 29 times.\n",
      "prime is repeated 29 times.\n",
      "appliances is repeated 29 times.\n",
      "units is repeated 29 times.\n",
      "ideal is repeated 29 times.\n",
      "cozy is repeated 28 times.\n",
      "trains is repeated 28 times.\n",
      "condominium is repeated 28 times.\n",
      "ishikawadai is repeated 28 times.\n",
      "washer is repeated 28 times.\n",
      "nakameguro is repeated 28 times.\n",
      "komagome is repeated 28 times.\n",
      "rent is repeated 28 times.\n",
      "passport is repeated 28 times.\n",
      "mega is repeated 28 times.\n",
      "superm is repeated 28 times.\n",
      "arkets is repeated 28 times.\n",
      "central is repeated 27 times.\n",
      "residence is repeated 27 times.\n",
      "door is repeated 27 times.\n",
      "self is repeated 27 times.\n",
      "adventurers is repeated 27 times.\n",
      "stadium is repeated 27 times.\n",
      "kabuki is repeated 27 times.\n",
      "mall is repeated 27 times.\n",
      "hulu is repeated 27 times.\n",
      "tabata is repeated 27 times.\n",
      "lcd is repeated 27 times.\n",
      "jizo is repeated 27 times.\n",
      "videos is repeated 27 times.\n",
      "jingu is repeated 26 times.\n",
      "max is repeated 26 times.\n",
      "owl is repeated 26 times.\n",
      "persons is repeated 26 times.\n"
     ]
    },
    {
     "data": {
      "text/plain": [
       "<Figure size 1200x1200 with 1 Axes>"
      ]
     },
     "metadata": {},
     "output_type": "display_data"
    }
   ],
   "source": [
    "from ipynb.fs.full.tokyo_NLP import *"
   ]
  },
  {
   "cell_type": "code",
   "execution_count": 4,
   "metadata": {},
   "outputs": [],
   "source": [
    "df = pd.get_dummies(listings_clean_model)"
   ]
  },
  {
   "cell_type": "code",
   "execution_count": 5,
   "metadata": {},
   "outputs": [
    {
     "data": {
      "text/plain": [
       "(11995, 81)"
      ]
     },
     "execution_count": 5,
     "metadata": {},
     "output_type": "execute_result"
    }
   ],
   "source": [
    "df.shape"
   ]
  },
  {
   "cell_type": "code",
   "execution_count": 6,
   "metadata": {},
   "outputs": [],
   "source": [
    "# Create correlation matrix\n",
    "corr_matrix = df.corr().abs()\n",
    "\n",
    "# Select upper triangle of correlation matrix\n",
    "upper = corr_matrix.where(np.triu(np.ones(corr_matrix.shape), k=1).astype(np.bool))\n",
    "\n",
    "# Find index of feature columns with correlation greater than 0.95\n",
    "to_drop = [column for column in upper.columns if any(upper[column] > 0.95)]"
   ]
  },
  {
   "cell_type": "code",
   "execution_count": 7,
   "metadata": {},
   "outputs": [
    {
     "data": {
      "text/plain": [
       "[]"
      ]
     },
     "execution_count": 7,
     "metadata": {},
     "output_type": "execute_result"
    }
   ],
   "source": [
    "to_drop "
   ]
  },
  {
   "cell_type": "code",
   "execution_count": 8,
   "metadata": {},
   "outputs": [],
   "source": [
    "numerical_col = ['accommodates','bathrooms',\n",
    "                 'cleaning_fee',\n",
    "                'minimum_nights','price']"
   ]
  },
  {
   "cell_type": "code",
   "execution_count": 9,
   "metadata": {},
   "outputs": [
    {
     "data": {
      "image/png": "[encoded data removed]",
      "text/plain": [
       "<Figure size 720x792 with 6 Axes>"
      ]
     },
     "metadata": {
      "needs_background": "light"
     },
     "output_type": "display_data"
    }
   ],
   "source": [
    "df[numerical_col].hist(figsize=(10,11));"
   ]
  },
  {
   "cell_type": "code",
   "execution_count": 10,
   "metadata": {},
   "outputs": [],
   "source": [
    "# Log transforming columns because some features are highly skewed. \n",
    "numerical_col = [i for i in numerical_col if i not in ['accommodates']] # Removing items not to be transformed\n",
    "\n",
    "for col in numerical_col:\n",
    "        df[col] = df[col].astype('float64').replace(0.0, 0.01) # Replacing 0s with 0.01\n",
    "        df[col] = np.log(df[col])"
   ]
  },
  {
   "cell_type": "code",
   "execution_count": 11,
   "metadata": {},
   "outputs": [],
   "source": [
    "#Target\n",
    "y_price = df['price']\n",
    "X_price = df.drop('price', axis=1)"
   ]
  },
  {
   "cell_type": "code",
   "execution_count": 12,
   "metadata": {},
   "outputs": [],
   "source": [
    "# Scaling\n",
    "from sklearn.preprocessing import StandardScaler\n",
    "scaler = StandardScaler()\n",
    "X_price = pd.DataFrame(scaler.fit_transform(X_price), columns=list(X_price.columns))"
   ]
  },
  {
   "cell_type": "code",
   "execution_count": 13,
   "metadata": {},
   "outputs": [],
   "source": [
    "from sklearn.model_selection import train_test_split\n",
    "X_train_price, X_test_price, y_train_price, y_test_price = train_test_split(\n",
    "                                                           X_price, y_price, test_size=0.2, random_state=42)"
   ]
  },
  {
   "cell_type": "code",
   "execution_count": 14,
   "metadata": {},
   "outputs": [
    {
     "name": "stdout",
     "output_type": "stream",
     "text": [
      "[21:48:14] WARNING: src/objective/regression_obj.cu:152: reg:linear is now deprecated in favor of reg:squarederror.\n",
      "\n",
      "Training MSE: 0.36\n",
      "Validation MSE: 0.321\n"
     ]
    }
   ],
   "source": [
    "import xgboost as xgb\n",
    "from sklearn.metrics import mean_squared_error,r2_score,explained_variance_score\n",
    "\n",
    "xgb_reg = xgb.XGBRegressor()\n",
    "xgb_reg.fit(X_train_price, y_train_price)\n",
    "training_preds_xgb_reg = xgb_reg.predict(X_train_price)\n",
    "val_preds_xgb_reg = xgb_reg.predict(X_test_price)\n",
    "\n",
    "print(\"\\nTraining MSE:\", round(mean_squared_error(y_train_price, training_preds_xgb_reg),3))\n",
    "print(\"Validation MSE:\", round(mean_squared_error(y_test_price, val_preds_xgb_reg),3))"
   ]
  },
  {
   "cell_type": "code",
   "execution_count": 15,
   "metadata": {},
   "outputs": [
    {
     "name": "stdout",
     "output_type": "stream",
     "text": [
      "\n",
      "Training r2: 0.55\n",
      "Validation r2: 0.555\n"
     ]
    }
   ],
   "source": [
    "print(\"\\nTraining r2:\", round(r2_score(y_train_price, training_preds_xgb_reg),3))\n",
    "print(\"Validation r2:\", round(r2_score(y_test_price, val_preds_xgb_reg),3))"
   ]
  },
  {
   "cell_type": "code",
   "execution_count": 16,
   "metadata": {},
   "outputs": [],
   "source": [
    "ft_weights_xgb_reg = pd.DataFrame(xgb_reg.feature_importances_, columns=['weight'], index=X_train_price.columns)\n",
    "ft_weights_xgb_reg.sort_values('weight', inplace=True)\n",
    "#ft_weights_xgb_reg"
   ]
  },
  {
   "cell_type": "code",
   "execution_count": 17,
   "metadata": {},
   "outputs": [],
   "source": [
    "# Drop feature weights of 0 \n",
    "ft_weights_xgb_reg = ft_weights_xgb_reg[(ft_weights_xgb_reg != 0).all(1)]"
   ]
  },
  {
   "cell_type": "code",
   "execution_count": 18,
   "metadata": {},
   "outputs": [
    {
     "data": {
      "image/png": "[encoded data removed]",
      "text/plain": [
       "<Figure size 576x2304 with 1 Axes>"
      ]
     },
     "metadata": {
      "needs_background": "light"
     },
     "output_type": "display_data"
    }
   ],
   "source": [
    "# Plotting feature importances\n",
    "import matplotlib.pyplot as plt\n",
    "plt.figure(figsize=(8,32))\n",
    "plt.barh(ft_weights_xgb_reg.index, ft_weights_xgb_reg.weight, align='center') \n",
    "plt.title(\"Feature importances in the XGBoost model\", fontsize=14)\n",
    "plt.xlabel(\"Feature importance\")\n",
    "plt.margins(y=0.01)\n",
    "plt.show()"
   ]
  },
  {
   "cell_type": "markdown",
   "metadata": {},
   "source": [
    "### Lets use availability_30 as Target"
   ]
  },
  {
   "cell_type": "code",
   "execution_count": null,
   "metadata": {},
   "outputs": [],
   "source": [
    "# #Target\n",
    "# y_30 = df['availability_30']\n",
    "# X_30 = df.drop(['availability_30','availability_90'],axis=1)"
   ]
  },
  {
   "cell_type": "code",
   "execution_count": null,
   "metadata": {},
   "outputs": [],
   "source": [
    "# X_30 = pd.DataFrame(scaler.fit_transform(X_30), columns=list(X_30.columns))\n",
    "# X_train_30, X_test_30, y_train_30, y_test_30 = train_test_split(X_30, y_30, test_size=0.2, random_state=42)"
   ]
  },
  {
   "cell_type": "code",
   "execution_count": null,
   "metadata": {},
   "outputs": [],
   "source": [
    "# xgb_reg = xgb.XGBRegressor()\n",
    "# xgb_reg.fit(X_train_30, y_train_30)\n",
    "# training_preds_xgb_reg = xgb_reg.predict(X_train_30)\n",
    "# val_preds_xgb_reg = xgb_reg.predict(X_test_30)\n",
    "\n",
    "# print(\"\\nTraining MSE:\", round(mean_squared_error(y_train_30, training_preds_xgb_reg),3))\n",
    "# print(\"Validation MSE:\", round(mean_squared_error(y_test_30, val_preds_xgb_reg),3))"
   ]
  },
  {
   "cell_type": "code",
   "execution_count": null,
   "metadata": {},
   "outputs": [],
   "source": [
    "# ft_weights_xgb_reg = pd.DataFrame(xgb_reg.feature_importances_, columns=['weight'], index=X_train_30.columns)\n",
    "# ft_weights_xgb_reg.sort_values('weight', inplace=True)"
   ]
  },
  {
   "cell_type": "code",
   "execution_count": null,
   "metadata": {},
   "outputs": [],
   "source": [
    "# # Drop feature weights of 0 \n",
    "# ft_weights_xgb_reg = ft_weights_xgb_reg[(ft_weights_xgb_reg != 0).all(1)]"
   ]
  },
  {
   "cell_type": "code",
   "execution_count": null,
   "metadata": {},
   "outputs": [],
   "source": [
    "# # Plotting feature importances\n",
    "# import matplotlib.pyplot as plt\n",
    "# plt.figure(figsize=(8,30))\n",
    "# plt.barh(ft_weights_xgb_reg.index, ft_weights_xgb_reg.weight, align='center') \n",
    "# plt.title(\"Feature importances in the XGBoost model\", fontsize=14)\n",
    "# plt.xlabel(\"Feature importance\")\n",
    "# plt.margins(y=0.01)\n",
    "# plt.show()"
   ]
  },
  {
   "cell_type": "markdown",
   "metadata": {},
   "source": [
    "### Availability_30 has a bigger MSE. "
   ]
  },
  {
   "cell_type": "markdown",
   "metadata": {},
   "source": [
    "### Lets use availability_90 as the Target"
   ]
  },
  {
   "cell_type": "code",
   "execution_count": null,
   "metadata": {},
   "outputs": [],
   "source": [
    "# #Target\n",
    "# y_90 = df['availability_90']\n",
    "# X_90 = df.drop(['availability_30','availability_90'],axis=1)\n",
    "\n",
    "# X_90 = pd.DataFrame(scaler.fit_transform(X_90), columns=list(X_90.columns))\n",
    "# X_train_90, X_test_90, y_train_90, y_test_90 = train_test_split(X_90, y_90, test_size=0.2, random_state=42)\n",
    "\n",
    "# xgb_reg = xgb.XGBRegressor()\n",
    "# xgb_reg.fit(X_train_90, y_train_90)\n",
    "# training_preds_xgb_reg = xgb_reg.predict(X_train_90)\n",
    "# val_preds_xgb_reg = xgb_reg.predict(X_test_90)\n",
    "\n",
    "# print(\"\\nTraining MSE:\", round(mean_squared_error(y_train_90, training_preds_xgb_reg),3))\n",
    "# print(\"Validation MSE:\", round(mean_squared_error(y_test_90, val_preds_xgb_reg),3))\n",
    "\n",
    "# ft_weights_xgb_reg = pd.DataFrame(xgb_reg.feature_importances_, columns=['weight'], index=X_train_90.columns)\n",
    "# ft_weights_xgb_reg.sort_values('weight', inplace=True)\n",
    "# # Drop feature weights of 0 \n",
    "# ft_weights_xgb_reg = ft_weights_xgb_reg[(ft_weights_xgb_reg != 0).all(1)]\n",
    "\n",
    "# # Plotting feature importances\n",
    "# import matplotlib.pyplot as plt\n",
    "# plt.figure(figsize=(8,30))\n",
    "# plt.barh(ft_weights_xgb_reg.index, ft_weights_xgb_reg.weight, align='center') \n",
    "# plt.title(\"Feature importances in the XGBoost model\", fontsize=14)\n",
    "# plt.xlabel(\"Feature importance\")\n",
    "# plt.margins(y=0.01)\n",
    "# plt.show()"
   ]
  },
  {
   "cell_type": "markdown",
   "metadata": {},
   "source": [
    "### Availability_90 has a huge MSE. "
   ]
  },
  {
   "cell_type": "markdown",
   "metadata": {},
   "source": [
    "## Neural Net"
   ]
  },
  {
   "cell_type": "code",
   "execution_count": null,
   "metadata": {},
   "outputs": [],
   "source": [
    "from keras import models, layers, optimizers, regularizers"
   ]
  },
  {
   "cell_type": "markdown",
   "metadata": {},
   "source": [
    "### Build Model without regularizers"
   ]
  },
  {
   "cell_type": "code",
   "execution_count": null,
   "metadata": {},
   "outputs": [],
   "source": [
    "X_train_price, X_test_price, y_train_price, y_test_price = train_test_split(\n",
    "                                                           X_price, y_price, test_size=0.2, random_state=42)"
   ]
  },
  {
   "cell_type": "code",
   "execution_count": null,
   "metadata": {},
   "outputs": [],
   "source": [
    "# Building the model\n",
    "nn = models.Sequential()\n",
    "nn.add(layers.Dense(128, input_shape=(X_train_price.shape[1],), activation='relu'))\n",
    "nn.add(layers.Dense(256, activation='relu'))\n",
    "nn.add(layers.Dense(256, activation='relu'))\n",
    "nn.add(layers.Dense(512, activation='relu'))\n",
    "nn.add(layers.Dense(1, activation='linear'))\n",
    "\n",
    "# Compiling the model\n",
    "nn.compile(loss='mean_squared_error',\n",
    "            optimizer='adam',\n",
    "            metrics=['mean_squared_error'])\n",
    "\n",
    "# Model summary\n",
    "print(nn.summary())"
   ]
  },
  {
   "cell_type": "code",
   "execution_count": null,
   "metadata": {},
   "outputs": [],
   "source": [
    "# Training the model\n",
    "nn_history = nn.fit(X_train_price,\n",
    "                  y_train_price,\n",
    "                  epochs=150,\n",
    "                  batch_size=256,\n",
    "                  validation_split = 0.1)"
   ]
  },
  {
   "cell_type": "code",
   "execution_count": null,
   "metadata": {},
   "outputs": [],
   "source": [
    "def nn_model_evaluation(model,X_train, X_test, y_train, y_test, skip_epochs=0,):\n",
    "    \"\"\"\n",
    "    For a given neural network model that has already been fit, prints for the train and tests sets the MSE and r squared\n",
    "    values, a line graph of the loss in each epoch, and a scatterplot of predicted vs. actual values with a line\n",
    "    representing where predicted = actual values. Optionally, a value for skip_epoch can be provided, which skips that\n",
    "    number of epochs in the line graph of losses (useful in cases where the loss in the first epoch is orders of magnitude\n",
    "    larger than subsequent epochs). Training and test sets can also optionally be specified.\n",
    "    \"\"\"\n",
    "\n",
    "    # MSE and r squared values\n",
    "    y_test_pred = model.predict(X_test)\n",
    "    y_train_pred = model.predict(X_train)\n",
    "    print(\"Training MSE:\", round(mean_squared_error(y_train, y_train_pred),4))\n",
    "    print(\"Validation MSE:\", round(mean_squared_error(y_test, y_test_pred),4))\n",
    "    print(\"\\nTraining r2:\", round(r2_score(y_train, y_train_pred),4))\n",
    "    print(\"Validation r2:\", round(r2_score(y_test, y_test_pred),4))\n",
    "    \n",
    "    # Line graph of losses\n",
    "    model_results = model.history.history\n",
    "    plt.plot(list(range((skip_epochs+1),len(model_results['loss'])+1)), model_results['loss'][skip_epochs:], label='Train')\n",
    "    plt.plot(list(range((skip_epochs+1),len(model_results['val_loss'])+1)), model_results['val_loss'][skip_epochs:], label='Test', color='green')\n",
    "    plt.legend()\n",
    "    plt.title('Training and test loss at each epoch', fontsize=14)\n",
    "    plt.show()"
   ]
  },
  {
   "cell_type": "code",
   "execution_count": null,
   "metadata": {},
   "outputs": [],
   "source": [
    "nn_model_evaluation(nn,X_train_price,X_test_price, y_train_price, y_test_price, skip_epochs=10)"
   ]
  },
  {
   "cell_type": "markdown",
   "metadata": {},
   "source": [
    "### Build Model with regularizers"
   ]
  },
  {
   "cell_type": "code",
   "execution_count": null,
   "metadata": {},
   "outputs": [],
   "source": [
    "# Building the model\n",
    "nn2 = models.Sequential()\n",
    "nn2.add(layers.Dense(128, input_shape=(X_train_price.shape[1],), kernel_regularizer=regularizers.l1(0.005), activation='relu'))\n",
    "nn2.add(layers.Dense(256, kernel_regularizer=regularizers.l1(0.005), activation='relu'))\n",
    "nn2.add(layers.Dense(256, kernel_regularizer=regularizers.l1(0.005), activation='relu'))\n",
    "nn2.add(layers.Dense(512, kernel_regularizer=regularizers.l1(0.005), activation='relu'))\n",
    "nn2.add(layers.Dense(1, activation='linear'))\n",
    "\n",
    "# Compiling the model\n",
    "nn2.compile(loss='mean_squared_error',\n",
    "            optimizer='adam',\n",
    "            metrics=['mean_squared_error'])\n",
    "\n",
    "# Model summary\n",
    "print(nn2.summary())"
   ]
  },
  {
   "cell_type": "code",
   "execution_count": null,
   "metadata": {},
   "outputs": [],
   "source": [
    "# Training the model\n",
    "nn2_history = nn2.fit(X_train_price,\n",
    "                  y_train_price,\n",
    "                  epochs=150,\n",
    "                  batch_size=256,\n",
    "                  validation_split = 0.1)"
   ]
  },
  {
   "cell_type": "code",
   "execution_count": null,
   "metadata": {},
   "outputs": [],
   "source": [
    "nn_model_evaluation(nn2,X_train_price,X_test_price, y_train_price, y_test_price, skip_epochs=10)"
   ]
  },
  {
   "cell_type": "markdown",
   "metadata": {},
   "source": [
    "### Neural Net with Kernal Regularizers is best performing with lowest MSE and higest R2 score. "
   ]
  },
  {
   "cell_type": "code",
   "execution_count": 20,
   "metadata": {},
   "outputs": [],
   "source": [
    "import pickle \n",
    "\n",
    "# Pickle the darn thing! 🥒\n",
    "model_name = '/Users/karthikmahendra/Desktop/AirBnB/ABB.pkl' # path to where you want the file\n",
    "pickle.dump(xgb_reg, open(model_name, 'wb')) # kitty = the name of your model "
   ]
  },
  {
   "cell_type": "code",
   "execution_count": 23,
   "metadata": {},
   "outputs": [],
   "source": [
    "X_tst = X_train_price.iloc[0]\n",
    "y_tst = y_train_price.iloc[0]"
   ]
  },
  {
   "cell_type": "code",
   "execution_count": 24,
   "metadata": {},
   "outputs": [
    {
     "name": "stdout",
     "output_type": "stream",
     "text": [
      "[21:57:03] WARNING: src/objective/regression_obj.cu:152: reg:linear is now deprecated in favor of reg:squarederror.\n"
     ]
    },
    {
     "ename": "ValueError",
     "evalue": "feature_names mismatch: ['accommodates', 'bathrooms', 'cleaning_fee', 'minimum_nights', 'instant_bookable', 'kitchen', 'smoke_detector', 'self_check_in', 'hot_water', 'shinjuku', 'asakusa', 'ikebukuro', 'shibuya', 'ueno', 'station', 'airport', 'attractions', 'neighbourhood_cleansed_Adachi Ku', 'neighbourhood_cleansed_Akiruno Shi', 'neighbourhood_cleansed_Akishima Shi', 'neighbourhood_cleansed_Arakawa Ku', 'neighbourhood_cleansed_Bunkyo Ku', 'neighbourhood_cleansed_Chiyoda Ku', 'neighbourhood_cleansed_Chofu Shi', 'neighbourhood_cleansed_Chuo Ku', 'neighbourhood_cleansed_Edogawa Ku', 'neighbourhood_cleansed_Fuchu Shi', 'neighbourhood_cleansed_Fussa Shi', 'neighbourhood_cleansed_Hachijo Machi', 'neighbourhood_cleansed_Hachioji Shi', 'neighbourhood_cleansed_Hamura Shi', 'neighbourhood_cleansed_Higashikurume Shi', 'neighbourhood_cleansed_Higashimurayama Shi', 'neighbourhood_cleansed_Hino Shi', 'neighbourhood_cleansed_Hinohara Mura', 'neighbourhood_cleansed_Itabashi Ku', 'neighbourhood_cleansed_Katsushika Ku', 'neighbourhood_cleansed_Kita Ku', 'neighbourhood_cleansed_Kodaira Shi', 'neighbourhood_cleansed_Koganei Shi', 'neighbourhood_cleansed_Kokubunji Shi', 'neighbourhood_cleansed_Komae Shi', 'neighbourhood_cleansed_Koto Ku', 'neighbourhood_cleansed_Kunitachi Shi', 'neighbourhood_cleansed_Machida Shi', 'neighbourhood_cleansed_Meguro Ku', 'neighbourhood_cleansed_Minato Ku', 'neighbourhood_cleansed_Mitaka Shi', 'neighbourhood_cleansed_Musashimurayama Shi', 'neighbourhood_cleansed_Musashino Shi', 'neighbourhood_cleansed_Nakano Ku', 'neighbourhood_cleansed_Nerima Ku', 'neighbourhood_cleansed_Niijima Mura', 'neighbourhood_cleansed_Nishitokyo Shi', 'neighbourhood_cleansed_Ogasawara Mura', 'neighbourhood_cleansed_Okutama Machi', 'neighbourhood_cleansed_Ome Shi', 'neighbourhood_cleansed_Oshima Machi', 'neighbourhood_cleansed_Ota Ku', 'neighbourhood_cleansed_Setagaya Ku', 'neighbourhood_cleansed_Shibuya Ku', 'neighbourhood_cleansed_Shinagawa Ku', 'neighbourhood_cleansed_Shinjuku Ku', 'neighbourhood_cleansed_Suginami Ku', 'neighbourhood_cleansed_Sumida Ku', 'neighbourhood_cleansed_Tachikawa Shi', 'neighbourhood_cleansed_Taito Ku', 'neighbourhood_cleansed_Tama Shi', 'neighbourhood_cleansed_Toshima Ku', 'property_type_Apartment', 'property_type_Hostel', 'property_type_Hotel', 'property_type_House', 'property_type_Other', 'property_type_Tent', 'property_type_Villa', 'room_type_Entire home/apt', 'room_type_Hotel room', 'room_type_Private room', 'room_type_Shared room'] ['f0', 'f1', 'f2', 'f3', 'f4', 'f5', 'f6', 'f7', 'f8', 'f9', 'f10', 'f11', 'f12', 'f13', 'f14', 'f15', 'f16', 'f17', 'f18', 'f19', 'f20', 'f21', 'f22', 'f23', 'f24', 'f25', 'f26', 'f27', 'f28', 'f29', 'f30', 'f31', 'f32', 'f33', 'f34', 'f35', 'f36', 'f37', 'f38', 'f39', 'f40', 'f41', 'f42', 'f43', 'f44', 'f45', 'f46', 'f47', 'f48', 'f49', 'f50', 'f51', 'f52', 'f53', 'f54', 'f55', 'f56', 'f57', 'f58', 'f59', 'f60', 'f61', 'f62', 'f63', 'f64', 'f65', 'f66', 'f67', 'f68', 'f69', 'f70', 'f71', 'f72', 'f73', 'f74', 'f75', 'f76', 'f77', 'f78', 'f79']\nexpected property_type_Hostel, ueno, neighbourhood_cleansed_Tachikawa Shi, neighbourhood_cleansed_Ogasawara Mura, neighbourhood_cleansed_Koto Ku, room_type_Hotel room, property_type_Villa, neighbourhood_cleansed_Suginami Ku, neighbourhood_cleansed_Meguro Ku, neighbourhood_cleansed_Akiruno Shi, bathrooms, neighbourhood_cleansed_Taito Ku, neighbourhood_cleansed_Minato Ku, asakusa, neighbourhood_cleansed_Toshima Ku, neighbourhood_cleansed_Akishima Shi, neighbourhood_cleansed_Setagaya Ku, neighbourhood_cleansed_Ota Ku, property_type_Apartment, shibuya, shinjuku, neighbourhood_cleansed_Nerima Ku, neighbourhood_cleansed_Chiyoda Ku, neighbourhood_cleansed_Sumida Ku, neighbourhood_cleansed_Komae Shi, neighbourhood_cleansed_Kodaira Shi, neighbourhood_cleansed_Nakano Ku, neighbourhood_cleansed_Fussa Shi, neighbourhood_cleansed_Oshima Machi, neighbourhood_cleansed_Tama Shi, neighbourhood_cleansed_Hinohara Mura, property_type_Hotel, attractions, neighbourhood_cleansed_Kita Ku, neighbourhood_cleansed_Hachijo Machi, room_type_Shared room, station, neighbourhood_cleansed_Itabashi Ku, neighbourhood_cleansed_Kokubunji Shi, neighbourhood_cleansed_Fuchu Shi, cleaning_fee, property_type_Other, room_type_Entire home/apt, neighbourhood_cleansed_Okutama Machi, minimum_nights, neighbourhood_cleansed_Higashikurume Shi, neighbourhood_cleansed_Chuo Ku, instant_bookable, neighbourhood_cleansed_Edogawa Ku, neighbourhood_cleansed_Mitaka Shi, neighbourhood_cleansed_Hino Shi, neighbourhood_cleansed_Shinagawa Ku, neighbourhood_cleansed_Musashino Shi, neighbourhood_cleansed_Kunitachi Shi, self_check_in, ikebukuro, neighbourhood_cleansed_Chofu Shi, neighbourhood_cleansed_Koganei Shi, airport, neighbourhood_cleansed_Niijima Mura, neighbourhood_cleansed_Hamura Shi, kitchen, neighbourhood_cleansed_Bunkyo Ku, smoke_detector, hot_water, room_type_Private room, neighbourhood_cleansed_Shibuya Ku, neighbourhood_cleansed_Shinjuku Ku, neighbourhood_cleansed_Musashimurayama Shi, neighbourhood_cleansed_Ome Shi, neighbourhood_cleansed_Higashimurayama Shi, accommodates, neighbourhood_cleansed_Machida Shi, neighbourhood_cleansed_Hachioji Shi, property_type_House, neighbourhood_cleansed_Nishitokyo Shi, neighbourhood_cleansed_Arakawa Ku, neighbourhood_cleansed_Katsushika Ku, neighbourhood_cleansed_Adachi Ku, property_type_Tent in input data\ntraining data did not have the following fields: f58, f51, f69, f61, f74, f56, f65, f70, f50, f52, f17, f41, f19, f8, f43, f10, f75, f21, f36, f29, f54, f23, f55, f27, f60, f22, f13, f46, f5, f25, f76, f3, f1, f24, f79, f18, f14, f40, f78, f11, f7, f57, f53, f38, f2, f66, f12, f30, f67, f47, f71, f63, f77, f45, f49, f64, f62, f73, f68, f32, f26, f16, f34, f31, f15, f33, f20, f39, f6, f0, f72, f9, f44, f28, f42, f59, f4, f35, f48, f37",
     "output_type": "error",
     "traceback": [
      "\u001b[0;31m---------------------------------------------------------------------------\u001b[0m",
      "\u001b[0;31mValueError\u001b[0m                                Traceback (most recent call last)",
      "\u001b[0;32m<ipython-input-24-646ca02e708b>\u001b[0m in \u001b[0;36m<module>\u001b[0;34m\u001b[0m\n\u001b[1;32m      1\u001b[0m \u001b[0mloaded_model\u001b[0m \u001b[0;34m=\u001b[0m \u001b[0mpickle\u001b[0m\u001b[0;34m.\u001b[0m\u001b[0mload\u001b[0m\u001b[0;34m(\u001b[0m\u001b[0mopen\u001b[0m\u001b[0;34m(\u001b[0m\u001b[0mmodel_name\u001b[0m\u001b[0;34m,\u001b[0m \u001b[0;34m'rb'\u001b[0m\u001b[0;34m)\u001b[0m\u001b[0;34m)\u001b[0m\u001b[0;34m\u001b[0m\u001b[0;34m\u001b[0m\u001b[0m\n\u001b[0;32m----> 2\u001b[0;31m \u001b[0mresult\u001b[0m \u001b[0;34m=\u001b[0m \u001b[0mloaded_model\u001b[0m\u001b[0;34m.\u001b[0m\u001b[0mscore\u001b[0m\u001b[0;34m(\u001b[0m\u001b[0mX_tst\u001b[0m\u001b[0;34m,\u001b[0m \u001b[0my_tst\u001b[0m\u001b[0;34m)\u001b[0m\u001b[0;34m\u001b[0m\u001b[0;34m\u001b[0m\u001b[0m\n\u001b[0m\u001b[1;32m      3\u001b[0m \u001b[0mprint\u001b[0m\u001b[0;34m(\u001b[0m\u001b[0mresult\u001b[0m\u001b[0;34m)\u001b[0m\u001b[0;34m\u001b[0m\u001b[0;34m\u001b[0m\u001b[0m\n",
      "\u001b[0;32m~/anaconda3/lib/python3.7/site-packages/sklearn/base.py\u001b[0m in \u001b[0;36mscore\u001b[0;34m(self, X, y, sample_weight)\u001b[0m\n\u001b[1;32m    328\u001b[0m \u001b[0;34m\u001b[0m\u001b[0m\n\u001b[1;32m    329\u001b[0m         \u001b[0;32mfrom\u001b[0m \u001b[0;34m.\u001b[0m\u001b[0mmetrics\u001b[0m \u001b[0;32mimport\u001b[0m \u001b[0mr2_score\u001b[0m\u001b[0;34m\u001b[0m\u001b[0;34m\u001b[0m\u001b[0m\n\u001b[0;32m--> 330\u001b[0;31m         return r2_score(y, self.predict(X), sample_weight=sample_weight,\n\u001b[0m\u001b[1;32m    331\u001b[0m                         multioutput='variance_weighted')\n\u001b[1;32m    332\u001b[0m \u001b[0;34m\u001b[0m\u001b[0m\n",
      "\u001b[0;32m~/anaconda3/lib/python3.7/site-packages/xgboost/sklearn.py\u001b[0m in \u001b[0;36mpredict\u001b[0;34m(self, data, output_margin, ntree_limit, validate_features)\u001b[0m\n\u001b[1;32m    454\u001b[0m                                           \u001b[0moutput_margin\u001b[0m\u001b[0;34m=\u001b[0m\u001b[0moutput_margin\u001b[0m\u001b[0;34m,\u001b[0m\u001b[0;34m\u001b[0m\u001b[0;34m\u001b[0m\u001b[0m\n\u001b[1;32m    455\u001b[0m                                           \u001b[0mntree_limit\u001b[0m\u001b[0;34m=\u001b[0m\u001b[0mntree_limit\u001b[0m\u001b[0;34m,\u001b[0m\u001b[0;34m\u001b[0m\u001b[0;34m\u001b[0m\u001b[0m\n\u001b[0;32m--> 456\u001b[0;31m                                           validate_features=validate_features)\n\u001b[0m\u001b[1;32m    457\u001b[0m \u001b[0;34m\u001b[0m\u001b[0m\n\u001b[1;32m    458\u001b[0m     \u001b[0;32mdef\u001b[0m \u001b[0mapply\u001b[0m\u001b[0;34m(\u001b[0m\u001b[0mself\u001b[0m\u001b[0;34m,\u001b[0m \u001b[0mX\u001b[0m\u001b[0;34m,\u001b[0m \u001b[0mntree_limit\u001b[0m\u001b[0;34m=\u001b[0m\u001b[0;36m0\u001b[0m\u001b[0;34m)\u001b[0m\u001b[0;34m:\u001b[0m\u001b[0;34m\u001b[0m\u001b[0;34m\u001b[0m\u001b[0m\n",
      "\u001b[0;32m~/anaconda3/lib/python3.7/site-packages/xgboost/core.py\u001b[0m in \u001b[0;36mpredict\u001b[0;34m(self, data, output_margin, ntree_limit, pred_leaf, pred_contribs, approx_contribs, pred_interactions, validate_features)\u001b[0m\n\u001b[1;32m   1282\u001b[0m \u001b[0;34m\u001b[0m\u001b[0m\n\u001b[1;32m   1283\u001b[0m         \u001b[0;32mif\u001b[0m \u001b[0mvalidate_features\u001b[0m\u001b[0;34m:\u001b[0m\u001b[0;34m\u001b[0m\u001b[0;34m\u001b[0m\u001b[0m\n\u001b[0;32m-> 1284\u001b[0;31m             \u001b[0mself\u001b[0m\u001b[0;34m.\u001b[0m\u001b[0m_validate_features\u001b[0m\u001b[0;34m(\u001b[0m\u001b[0mdata\u001b[0m\u001b[0;34m)\u001b[0m\u001b[0;34m\u001b[0m\u001b[0;34m\u001b[0m\u001b[0m\n\u001b[0m\u001b[1;32m   1285\u001b[0m \u001b[0;34m\u001b[0m\u001b[0m\n\u001b[1;32m   1286\u001b[0m         \u001b[0mlength\u001b[0m \u001b[0;34m=\u001b[0m \u001b[0mc_bst_ulong\u001b[0m\u001b[0;34m(\u001b[0m\u001b[0;34m)\u001b[0m\u001b[0;34m\u001b[0m\u001b[0;34m\u001b[0m\u001b[0m\n",
      "\u001b[0;32m~/anaconda3/lib/python3.7/site-packages/xgboost/core.py\u001b[0m in \u001b[0;36m_validate_features\u001b[0;34m(self, data)\u001b[0m\n\u001b[1;32m   1688\u001b[0m \u001b[0;34m\u001b[0m\u001b[0m\n\u001b[1;32m   1689\u001b[0m                 raise ValueError(msg.format(self.feature_names,\n\u001b[0;32m-> 1690\u001b[0;31m                                             data.feature_names))\n\u001b[0m\u001b[1;32m   1691\u001b[0m \u001b[0;34m\u001b[0m\u001b[0m\n\u001b[1;32m   1692\u001b[0m     \u001b[0;32mdef\u001b[0m \u001b[0mget_split_value_histogram\u001b[0m\u001b[0;34m(\u001b[0m\u001b[0mself\u001b[0m\u001b[0;34m,\u001b[0m \u001b[0mfeature\u001b[0m\u001b[0;34m,\u001b[0m \u001b[0mfmap\u001b[0m\u001b[0;34m=\u001b[0m\u001b[0;34m''\u001b[0m\u001b[0;34m,\u001b[0m \u001b[0mbins\u001b[0m\u001b[0;34m=\u001b[0m\u001b[0;32mNone\u001b[0m\u001b[0;34m,\u001b[0m \u001b[0mas_pandas\u001b[0m\u001b[0;34m=\u001b[0m\u001b[0;32mTrue\u001b[0m\u001b[0;34m)\u001b[0m\u001b[0;34m:\u001b[0m\u001b[0;34m\u001b[0m\u001b[0;34m\u001b[0m\u001b[0m\n",
      "\u001b[0;31mValueError\u001b[0m: feature_names mismatch: ['accommodates', 'bathrooms', 'cleaning_fee', 'minimum_nights', 'instant_bookable', 'kitchen', 'smoke_detector', 'self_check_in', 'hot_water', 'shinjuku', 'asakusa', 'ikebukuro', 'shibuya', 'ueno', 'station', 'airport', 'attractions', 'neighbourhood_cleansed_Adachi Ku', 'neighbourhood_cleansed_Akiruno Shi', 'neighbourhood_cleansed_Akishima Shi', 'neighbourhood_cleansed_Arakawa Ku', 'neighbourhood_cleansed_Bunkyo Ku', 'neighbourhood_cleansed_Chiyoda Ku', 'neighbourhood_cleansed_Chofu Shi', 'neighbourhood_cleansed_Chuo Ku', 'neighbourhood_cleansed_Edogawa Ku', 'neighbourhood_cleansed_Fuchu Shi', 'neighbourhood_cleansed_Fussa Shi', 'neighbourhood_cleansed_Hachijo Machi', 'neighbourhood_cleansed_Hachioji Shi', 'neighbourhood_cleansed_Hamura Shi', 'neighbourhood_cleansed_Higashikurume Shi', 'neighbourhood_cleansed_Higashimurayama Shi', 'neighbourhood_cleansed_Hino Shi', 'neighbourhood_cleansed_Hinohara Mura', 'neighbourhood_cleansed_Itabashi Ku', 'neighbourhood_cleansed_Katsushika Ku', 'neighbourhood_cleansed_Kita Ku', 'neighbourhood_cleansed_Kodaira Shi', 'neighbourhood_cleansed_Koganei Shi', 'neighbourhood_cleansed_Kokubunji Shi', 'neighbourhood_cleansed_Komae Shi', 'neighbourhood_cleansed_Koto Ku', 'neighbourhood_cleansed_Kunitachi Shi', 'neighbourhood_cleansed_Machida Shi', 'neighbourhood_cleansed_Meguro Ku', 'neighbourhood_cleansed_Minato Ku', 'neighbourhood_cleansed_Mitaka Shi', 'neighbourhood_cleansed_Musashimurayama Shi', 'neighbourhood_cleansed_Musashino Shi', 'neighbourhood_cleansed_Nakano Ku', 'neighbourhood_cleansed_Nerima Ku', 'neighbourhood_cleansed_Niijima Mura', 'neighbourhood_cleansed_Nishitokyo Shi', 'neighbourhood_cleansed_Ogasawara Mura', 'neighbourhood_cleansed_Okutama Machi', 'neighbourhood_cleansed_Ome Shi', 'neighbourhood_cleansed_Oshima Machi', 'neighbourhood_cleansed_Ota Ku', 'neighbourhood_cleansed_Setagaya Ku', 'neighbourhood_cleansed_Shibuya Ku', 'neighbourhood_cleansed_Shinagawa Ku', 'neighbourhood_cleansed_Shinjuku Ku', 'neighbourhood_cleansed_Suginami Ku', 'neighbourhood_cleansed_Sumida Ku', 'neighbourhood_cleansed_Tachikawa Shi', 'neighbourhood_cleansed_Taito Ku', 'neighbourhood_cleansed_Tama Shi', 'neighbourhood_cleansed_Toshima Ku', 'property_type_Apartment', 'property_type_Hostel', 'property_type_Hotel', 'property_type_House', 'property_type_Other', 'property_type_Tent', 'property_type_Villa', 'room_type_Entire home/apt', 'room_type_Hotel room', 'room_type_Private room', 'room_type_Shared room'] ['f0', 'f1', 'f2', 'f3', 'f4', 'f5', 'f6', 'f7', 'f8', 'f9', 'f10', 'f11', 'f12', 'f13', 'f14', 'f15', 'f16', 'f17', 'f18', 'f19', 'f20', 'f21', 'f22', 'f23', 'f24', 'f25', 'f26', 'f27', 'f28', 'f29', 'f30', 'f31', 'f32', 'f33', 'f34', 'f35', 'f36', 'f37', 'f38', 'f39', 'f40', 'f41', 'f42', 'f43', 'f44', 'f45', 'f46', 'f47', 'f48', 'f49', 'f50', 'f51', 'f52', 'f53', 'f54', 'f55', 'f56', 'f57', 'f58', 'f59', 'f60', 'f61', 'f62', 'f63', 'f64', 'f65', 'f66', 'f67', 'f68', 'f69', 'f70', 'f71', 'f72', 'f73', 'f74', 'f75', 'f76', 'f77', 'f78', 'f79']\nexpected property_type_Hostel, ueno, neighbourhood_cleansed_Tachikawa Shi, neighbourhood_cleansed_Ogasawara Mura, neighbourhood_cleansed_Koto Ku, room_type_Hotel room, property_type_Villa, neighbourhood_cleansed_Suginami Ku, neighbourhood_cleansed_Meguro Ku, neighbourhood_cleansed_Akiruno Shi, bathrooms, neighbourhood_cleansed_Taito Ku, neighbourhood_cleansed_Minato Ku, asakusa, neighbourhood_cleansed_Toshima Ku, neighbourhood_cleansed_Akishima Shi, neighbourhood_cleansed_Setagaya Ku, neighbourhood_cleansed_Ota Ku, property_type_Apartment, shibuya, shinjuku, neighbourhood_cleansed_Nerima Ku, neighbourhood_cleansed_Chiyoda Ku, neighbourhood_cleansed_Sumida Ku, neighbourhood_cleansed_Komae Shi, neighbourhood_cleansed_Kodaira Shi, neighbourhood_cleansed_Nakano Ku, neighbourhood_cleansed_Fussa Shi, neighbourhood_cleansed_Oshima Machi, neighbourhood_cleansed_Tama Shi, neighbourhood_cleansed_Hinohara Mura, property_type_Hotel, attractions, neighbourhood_cleansed_Kita Ku, neighbourhood_cleansed_Hachijo Machi, room_type_Shared room, station, neighbourhood_cleansed_Itabashi Ku, neighbourhood_cleansed_Kokubunji Shi, neighbourhood_cleansed_Fuchu Shi, cleaning_fee, property_type_Other, room_type_Entire home/apt, neighbourhood_cleansed_Okutama Machi, minimum_nights, neighbourhood_cleansed_Higashikurume Shi, neighbourhood_cleansed_Chuo Ku, instant_bookable, neighbourhood_cleansed_Edogawa Ku, neighbourhood_cleansed_Mitaka Shi, neighbourhood_cleansed_Hino Shi, neighbourhood_cleansed_Shinagawa Ku, neighbourhood_cleansed_Musashino Shi, neighbourhood_cleansed_Kunitachi Shi, self_check_in, ikebukuro, neighbourhood_cleansed_Chofu Shi, neighbourhood_cleansed_Koganei Shi, airport, neighbourhood_cleansed_Niijima Mura, neighbourhood_cleansed_Hamura Shi, kitchen, neighbourhood_cleansed_Bunkyo Ku, smoke_detector, hot_water, room_type_Private room, neighbourhood_cleansed_Shibuya Ku, neighbourhood_cleansed_Shinjuku Ku, neighbourhood_cleansed_Musashimurayama Shi, neighbourhood_cleansed_Ome Shi, neighbourhood_cleansed_Higashimurayama Shi, accommodates, neighbourhood_cleansed_Machida Shi, neighbourhood_cleansed_Hachioji Shi, property_type_House, neighbourhood_cleansed_Nishitokyo Shi, neighbourhood_cleansed_Arakawa Ku, neighbourhood_cleansed_Katsushika Ku, neighbourhood_cleansed_Adachi Ku, property_type_Tent in input data\ntraining data did not have the following fields: f58, f51, f69, f61, f74, f56, f65, f70, f50, f52, f17, f41, f19, f8, f43, f10, f75, f21, f36, f29, f54, f23, f55, f27, f60, f22, f13, f46, f5, f25, f76, f3, f1, f24, f79, f18, f14, f40, f78, f11, f7, f57, f53, f38, f2, f66, f12, f30, f67, f47, f71, f63, f77, f45, f49, f64, f62, f73, f68, f32, f26, f16, f34, f31, f15, f33, f20, f39, f6, f0, f72, f9, f44, f28, f42, f59, f4, f35, f48, f37"
     ]
    }
   ],
   "source": [
    "loaded_model = pickle.load(open(model_name, 'rb'))\n",
    "result = loaded_model.score(X_tst, y_tst)\n",
    "print(result)"
   ]
  },
  {
   "cell_type": "code",
   "execution_count": null,
   "metadata": {},
   "outputs": [],
   "source": [
    "saved_model"
   ]
  },
  {
   "cell_type": "code",
   "execution_count": null,
   "metadata": {},
   "outputs": [],
   "source": []
  }
 ],
 "metadata": {
  "kernelspec": {
   "display_name": "Python 3",
   "language": "python",
   "name": "python3"
  },
  "language_info": {
   "codemirror_mode": {
    "name": "ipython",
    "version": 3
   },
   "file_extension": ".py",
   "mimetype": "text/x-python",
   "name": "python",
   "nbconvert_exporter": "python",
   "pygments_lexer": "ipython3",
   "version": "3.7.3"
  }
 },
 "nbformat": 4,
 "nbformat_minor": 2
}
