{
 "cells": [
  {
   "cell_type": "code",
   "execution_count": 1,
   "metadata": {},
   "outputs": [
    {
     "name": "stderr",
     "output_type": "stream",
     "text": [
      "/Users/karthikmahendra/anaconda3/lib/python3.7/site-packages/IPython/core/interactiveshell.py:3214: DtypeWarning: Columns (61,62) have mixed types. Specify dtype option on import or set low_memory=False.\n",
      "  if (yield from self.run_code(code, result)):\n"
     ]
    }
   ],
   "source": [
    "from ipynb.fs.full.Tokyo_deploy import *"
   ]
  },
  {
   "cell_type": "code",
   "execution_count": null,
   "metadata": {},
   "outputs": [],
   "source": [
    "# from collections import OrderedDict,Counter\n",
    "# import numpy as np\n",
    "# import spacy\n",
    "# from spacy.lang.en.stop_words import STOP_WORDS\n",
    "\n",
    "# nlp = spacy.load('en_core_web_sm')\n",
    "\n",
    "# class TextRank4Keyword():\n",
    "#     \"\"\"Extract keywords from text\"\"\"\n",
    "    \n",
    "#     def __init__(self):\n",
    "#         self.d = 0.85 # damping coefficient, usually is .85\n",
    "#         self.min_diff = 1e-5 # convergence threshold\n",
    "#         self.steps = 10 # iteration steps\n",
    "#         self.node_weight = None # save keywords and its weight\n",
    "\n",
    "    \n",
    "#     def set_stopwords(self, stopwords):  \n",
    "#         \"\"\"Set stop words\"\"\"\n",
    "#         for word in STOP_WORDS.union(set(stopwords)):\n",
    "#             lexeme = nlp.vocab[word]\n",
    "#             lexeme.is_stop = True\n",
    "    \n",
    "#     def sentence_segment(self, doc, candidate_pos, lower):\n",
    "#         \"\"\"Store those words only in cadidate_pos\"\"\"\n",
    "#         sentences = []\n",
    "#         for sent in doc.sents:\n",
    "#             selected_words = []\n",
    "#             for token in sent:\n",
    "#                 # Store words only with cadidate POS tag\n",
    "#                 if token.pos_ in candidate_pos and token.is_stop is False:\n",
    "#                     if lower is True:\n",
    "#                         selected_words.append(token.text.lower())\n",
    "#                     else:\n",
    "#                         selected_words.append(token.text)\n",
    "#             sentences.append(selected_words)\n",
    "#         return sentences\n",
    "        \n",
    "#     def get_vocab(self, sentences):\n",
    "#         \"\"\"Get all tokens\"\"\"\n",
    "#         vocab = OrderedDict()\n",
    "#         i = 0\n",
    "#         for sentence in sentences:\n",
    "#             for word in sentence:\n",
    "#                 if word not in vocab:\n",
    "#                     vocab[word] = i\n",
    "#                     i += 1\n",
    "#         return vocab\n",
    "    \n",
    "#     def get_token_pairs(self, window_size, sentences):\n",
    "#         \"\"\"Build token_pairs from windows in sentences\"\"\"\n",
    "#         token_pairs = list()\n",
    "#         for sentence in sentences:\n",
    "#             for i, word in enumerate(sentence):\n",
    "#                 for j in range(i+1, i+window_size):\n",
    "#                     if j >= len(sentence):\n",
    "#                         break\n",
    "#                     pair = (word, sentence[j])\n",
    "#                     if pair not in token_pairs:\n",
    "#                         token_pairs.append(pair)\n",
    "#         return token_pairs\n",
    "        \n",
    "#     def symmetrize(self, a):\n",
    "#         return a + a.T - np.diag(a.diagonal())\n",
    "    \n",
    "#     def get_matrix(self, vocab, token_pairs):\n",
    "#         \"\"\"Get normalized matrix\"\"\"\n",
    "#         # Build matrix\n",
    "#         vocab_size = len(vocab)\n",
    "#         g = np.zeros((vocab_size, vocab_size), dtype='float')\n",
    "#         for word1, word2 in token_pairs:\n",
    "#             i, j = vocab[word1], vocab[word2]\n",
    "#             g[i][j] = 1\n",
    "            \n",
    "#         # Get Symmeric matrix\n",
    "#         g = self.symmetrize(g)\n",
    "        \n",
    "#         # Normalize matrix by column\n",
    "#         norm = np.sum(g, axis=0)\n",
    "#         g_norm = np.divide(g, norm, where=norm!=0) # this is ignore the 0 element in norm\n",
    "        \n",
    "#         return g_norm\n",
    "             \n",
    "#     def analyze(self, text, \n",
    "#                 candidate_pos=['NOUN', 'PROPN'], \n",
    "#                 window_size=4, lower=False, stopwords=list()):\n",
    "#         \"\"\"Main function to analyze text\"\"\"\n",
    "        \n",
    "#         # Set stop words\n",
    "#         self.set_stopwords(stopwords)\n",
    "        \n",
    "#         # Pare text by spaCy\n",
    "#         doc = nlp(text)\n",
    "        \n",
    "#         # Filter sentences\n",
    "#         sentences = self.sentence_segment(doc, candidate_pos, lower) # list of list of words\n",
    "        \n",
    "#         # Build vocabulary\n",
    "#         vocab = self.get_vocab(sentences)\n",
    "        \n",
    "#         # Get token_pairs from windows\n",
    "#         token_pairs = self.get_token_pairs(window_size, sentences)\n",
    "        \n",
    "#         # Get normalized matrix\n",
    "#         g = self.get_matrix(vocab, token_pairs)\n",
    "        \n",
    "#         # Initionlization for weight(pagerank value)\n",
    "#         pr = np.array([1] * len(vocab))\n",
    "        \n",
    "#         # Iteration\n",
    "#         previous_pr = 0\n",
    "#         for epoch in range(self.steps):\n",
    "#             pr = (1-self.d) + self.d * np.dot(g, pr)\n",
    "#             if abs(previous_pr - sum(pr))  < self.min_diff:\n",
    "#                 break\n",
    "#             else:\n",
    "#                 previous_pr = sum(pr)\n",
    "\n",
    "#         # Get weight for each node\n",
    "#         node_weight = dict()\n",
    "#         for word, index in vocab.items():\n",
    "#             node_weight[word] = pr[index]\n",
    "        \n",
    "#         self.node_weight = node_weight\n",
    "        \n",
    "#         \"\"\"return top number keywords\"\"\"\n",
    "#         kw = []\n",
    "#         node_weight = OrderedDict(sorted(self.node_weight.items(), key=lambda t: t[1], reverse=True))\n",
    "#         for i, (key, value) in enumerate(node_weight.items()):\n",
    "#            # print(key + ' - ' + str(value))\n",
    "#             if value > 1:\n",
    "#                 kw.append(key)\n",
    "#         return ' '.join(kw)\n"
   ]
  },
  {
   "cell_type": "code",
   "execution_count": null,
   "metadata": {},
   "outputs": [],
   "source": [
    "# tr4w = TextRank4Keyword()\n",
    "# analyser = lambda x: tr4w.analyze(x, candidate_pos = ['NOUN', 'PROPN'], window_size=5, lower=False)"
   ]
  },
  {
   "cell_type": "code",
   "execution_count": null,
   "metadata": {},
   "outputs": [],
   "source": [
    "# listings_clean_model['summary'] = listings_clean_model['summary'].dropna()"
   ]
  },
  {
   "cell_type": "code",
   "execution_count": null,
   "metadata": {},
   "outputs": [],
   "source": [
    "# listings_clean_model['KW'] = listings_clean_model['summary'].apply(analyser)"
   ]
  },
  {
   "cell_type": "code",
   "execution_count": null,
   "metadata": {},
   "outputs": [],
   "source": [
    "# # convert to lower case, remove numbers and punctuation and strip non-ASCII characters\n",
    "# import re\n",
    "# import string\n",
    "# listings_clean_model['KW'] = listings_clean_model['KW'].apply(lambda x:str.lower(x))\n",
    "# listings_clean_model['KW'] = listings_clean_model['KW'].apply(lambda x:re.sub(\"([^\\x00-\\x7F])+\",\" \",x))\n",
    "# listings_clean_model['KW'] = listings_clean_model['KW'].apply(lambda x:x.translate(str.maketrans('', '', string.punctuation)))\n",
    "# listings_clean_model['KW'] = listings_clean_model['KW'].apply(lambda x:''.join(i for i in x if not i.isdigit()))"
   ]
  },
  {
   "cell_type": "code",
   "execution_count": null,
   "metadata": {},
   "outputs": [],
   "source": [
    "# # Join all summries to single string and then find the count of most repeated words. \n",
    "# words = (listings_clean_model['KW'].str.cat(sep=\" \")).split()\n",
    "# word_counts = Counter(words)\n",
    "# for word, count in word_counts.most_common():\n",
    "#     if count > 25:\n",
    "#         print(f'{word} is repeated {count} times.')"
   ]
  },
  {
   "cell_type": "markdown",
   "metadata": {},
   "source": [
    "# Add below features\n",
    "is close to station,train,yamanote\n",
    "is in shinjuku \n",
    "is in asakusa\n",
    "close to airport, haneda, narita\n",
    "is close to ikebukuro?\n",
    "close to shibuya?\n",
    "close to ueno?\n",
    "akihabara,ginza,roppongi,harajuku,temple,shrine,okubo,Otsuka,nishi,tsukiji,ryogoku,shinagawa,kaminarimon,akasaka,ikebukuro\n"
   ]
  },
  {
   "cell_type": "code",
   "execution_count": null,
   "metadata": {},
   "outputs": [],
   "source": [
    "# from wordcloud import WordCloud,STOPWORDS\n",
    "# import matplotlib.pyplot as plt"
   ]
  },
  {
   "cell_type": "code",
   "execution_count": null,
   "metadata": {},
   "outputs": [],
   "source": [
    "# def show_wordcloud(data, title = None):\n",
    "    \n",
    "    \n",
    "#     '''funtion to produce and display wordcloud\n",
    "#         taken 2 arguments\n",
    "#         1.data to produce wordcloud\n",
    "#         2.title of wordcloud'''\n",
    "    \n",
    "    \n",
    "#     wordcloud = WordCloud(\n",
    "#         background_color='white',\n",
    "#         stopwords=set(STOPWORDS),\n",
    "#         max_words=250,\n",
    "#         max_font_size=40, \n",
    "#         scale=3,\n",
    "#         random_state=1 # chosen at random by flipping a coin; it was heads\n",
    "#     ).generate(str(data))\n",
    "\n",
    "#     fig = plt.figure(1, figsize=(12, 12))\n",
    "#     plt.axis('off')\n",
    "#     if title: \n",
    "#         fig.suptitle(title, fontsize=20)\n",
    "#         fig.subplots_adjust(top=2.3)\n",
    "\n",
    "#     plt.imshow(wordcloud,interpolation=\"bilinear\")\n",
    "#     plt.show()"
   ]
  },
  {
   "cell_type": "code",
   "execution_count": null,
   "metadata": {},
   "outputs": [],
   "source": [
    "# show_wordcloud(words)"
   ]
  },
  {
   "cell_type": "code",
   "execution_count": null,
   "metadata": {},
   "outputs": [],
   "source": [
    "# listings_clean_model['KW']=listings_clean_model['KW'].apply(lambda x:x.split())"
   ]
  },
  {
   "cell_type": "code",
   "execution_count": null,
   "metadata": {},
   "outputs": [],
   "source": [
    "# # add new features based on NLP analysis above.\n",
    "# listings_clean_model['shinjuku']=listings_clean_model['KW'].apply(lambda x:1 if ('shinjuku') in x else 0)\n",
    "# listings_clean_model['asakusa']=listings_clean_model['KW'].apply(lambda x:1 if ('asakusa') in x else 0)\n",
    "# listings_clean_model['ikebukuro']=listings_clean_model['KW'].apply(lambda x:1 if ('ikebukuro') in x else 0)\n",
    "# listings_clean_model['shibuya']=listings_clean_model['KW'].apply(lambda x:1 if ('shibuya') in x else 0)\n",
    "# listings_clean_model['ueno']=listings_clean_model['KW'].apply(lambda x:1 if ('ueno') in x else 0)"
   ]
  },
  {
   "cell_type": "code",
   "execution_count": null,
   "metadata": {},
   "outputs": [],
   "source": [
    "# listings_clean_model['station'] = listings_clean_model['KW'].apply(lambda x:any(item in x for item in \n",
    "#                                                                      ['station','train','yamanote']))"
   ]
  },
  {
   "cell_type": "code",
   "execution_count": null,
   "metadata": {},
   "outputs": [],
   "source": [
    "# listings_clean_model['airport'] = listings_clean_model['KW'].apply(lambda x:any(item in x for item in \n",
    "#                                                                      ['airport','haneda','narita']))\n",
    "# listings_clean_model['attractions']=listings_clean_model['KW'].apply(lambda x:any(item in x for item in \n",
    "#                                                                       ['akihabara','ginza','roppongi',\n",
    "#                                                                        'harajuku','temple','shrine','okubo',\n",
    "#                                                                        'Otsuka','nishi','tsukiji','ryogoku',\n",
    "#                                                                        'shinagawa','kaminarimon','akasaka',\n",
    "#                                                                         'ikebukuro']))"
   ]
  },
  {
   "cell_type": "code",
   "execution_count": null,
   "metadata": {},
   "outputs": [],
   "source": [
    "# listings_clean_model.replace({False: 0, True: 1}, inplace=True)"
   ]
  },
  {
   "cell_type": "code",
   "execution_count": 2,
   "metadata": {},
   "outputs": [],
   "source": [
    "df = listings_clean_model.drop(columns = ['summary'],axis=1)"
   ]
  },
  {
   "cell_type": "code",
   "execution_count": 3,
   "metadata": {},
   "outputs": [
    {
     "data": {
      "text/plain": [
       "host_response_rate          int64\n",
       "neighbourhood_cleansed    float64\n",
       "property_type             float64\n",
       "room_type                   int64\n",
       "accommodates                int64\n",
       "bathrooms                 float64\n",
       "price                       int64\n",
       "cleaning_fee                int64\n",
       "minimum_nights              int64\n",
       "instant_bookable            int64\n",
       "kitchen                     int64\n",
       "smoke_detector              int64\n",
       "self_check_in               int64\n",
       "hot_water                   int64\n",
       "local_host                  int64\n",
       "dtype: object"
      ]
     },
     "execution_count": 3,
     "metadata": {},
     "output_type": "execute_result"
    }
   ],
   "source": [
    "df.dtypes"
   ]
  },
  {
   "cell_type": "code",
   "execution_count": 4,
   "metadata": {},
   "outputs": [],
   "source": [
    "# #df = pd.get_dummies(listings_clean_model)\n",
    "numerical_col = ['accommodates','bathrooms',\n",
    "                 'cleaning_fee',\n",
    "                'minimum_nights','price']\n",
    "# Log transforming columns because some features are highly skewed. \n",
    "numerical_col = [i for i in numerical_col if i not in ['accommodates']] # Removing items not to be transformed\n",
    "\n",
    "for col in numerical_col:\n",
    "        df[col] = df[col].astype('float64').replace(0.0, 0.01) # Replacing 0s with 0.01\n",
    "        df[col] = np.log(df[col])\n",
    "\n",
    "#Target\n",
    "y_price = df['price']\n",
    "X_price = df.drop('price', axis=1)"
   ]
  },
  {
   "cell_type": "code",
   "execution_count": 5,
   "metadata": {},
   "outputs": [
    {
     "data": {
      "text/plain": [
       "3    8.854665\n",
       "6    9.102421\n",
       "7    8.545781\n",
       "8    9.195531\n",
       "9    8.790117\n",
       "Name: price, dtype: float64"
      ]
     },
     "execution_count": 5,
     "metadata": {},
     "output_type": "execute_result"
    }
   ],
   "source": [
    "y_price.head()"
   ]
  },
  {
   "cell_type": "code",
   "execution_count": 6,
   "metadata": {},
   "outputs": [],
   "source": [
    "# # Scaling\n",
    "# from sklearn.preprocessing import StandardScaler\n",
    "# scaler = StandardScaler()\n",
    "# X_price = pd.DataFrame(scaler.fit_transform(X_price), columns=list(X_price.columns))"
   ]
  },
  {
   "cell_type": "code",
   "execution_count": 7,
   "metadata": {},
   "outputs": [],
   "source": [
    "from sklearn.model_selection import train_test_split\n",
    "X_train_price, X_test_price, y_train_price, y_test_price = train_test_split(\n",
    "                                                           X_price, y_price, test_size=0.2, random_state=42)"
   ]
  },
  {
   "cell_type": "code",
   "execution_count": 8,
   "metadata": {},
   "outputs": [
    {
     "data": {
      "text/html": [
       "<div>\n",
       "<style scoped>\n",
       "    .dataframe tbody tr th:only-of-type {\n",
       "        vertical-align: middle;\n",
       "    }\n",
       "\n",
       "    .dataframe tbody tr th {\n",
       "        vertical-align: top;\n",
       "    }\n",
       "\n",
       "    .dataframe thead th {\n",
       "        text-align: right;\n",
       "    }\n",
       "</style>\n",
       "<table border=\"1\" class=\"dataframe\">\n",
       "  <thead>\n",
       "    <tr style=\"text-align: right;\">\n",
       "      <th></th>\n",
       "      <th>host_response_rate</th>\n",
       "      <th>neighbourhood_cleansed</th>\n",
       "      <th>property_type</th>\n",
       "      <th>room_type</th>\n",
       "      <th>accommodates</th>\n",
       "      <th>bathrooms</th>\n",
       "      <th>cleaning_fee</th>\n",
       "      <th>minimum_nights</th>\n",
       "      <th>instant_bookable</th>\n",
       "      <th>kitchen</th>\n",
       "      <th>smoke_detector</th>\n",
       "      <th>self_check_in</th>\n",
       "      <th>hot_water</th>\n",
       "      <th>local_host</th>\n",
       "    </tr>\n",
       "  </thead>\n",
       "  <tbody>\n",
       "    <tr>\n",
       "      <th>6906</th>\n",
       "      <td>99</td>\n",
       "      <td>3.0</td>\n",
       "      <td>2.0</td>\n",
       "      <td>1</td>\n",
       "      <td>3</td>\n",
       "      <td>0.693147</td>\n",
       "      <td>8.294050</td>\n",
       "      <td>0.000000</td>\n",
       "      <td>1</td>\n",
       "      <td>0</td>\n",
       "      <td>1</td>\n",
       "      <td>0</td>\n",
       "      <td>0</td>\n",
       "      <td>0</td>\n",
       "    </tr>\n",
       "    <tr>\n",
       "      <th>3141</th>\n",
       "      <td>98</td>\n",
       "      <td>0.0</td>\n",
       "      <td>0.0</td>\n",
       "      <td>1</td>\n",
       "      <td>2</td>\n",
       "      <td>0.000000</td>\n",
       "      <td>8.160518</td>\n",
       "      <td>0.693147</td>\n",
       "      <td>0</td>\n",
       "      <td>1</td>\n",
       "      <td>1</td>\n",
       "      <td>1</td>\n",
       "      <td>1</td>\n",
       "      <td>1</td>\n",
       "    </tr>\n",
       "    <tr>\n",
       "      <th>7244</th>\n",
       "      <td>100</td>\n",
       "      <td>3.0</td>\n",
       "      <td>0.0</td>\n",
       "      <td>0</td>\n",
       "      <td>3</td>\n",
       "      <td>0.405465</td>\n",
       "      <td>8.517193</td>\n",
       "      <td>0.000000</td>\n",
       "      <td>1</td>\n",
       "      <td>1</td>\n",
       "      <td>0</td>\n",
       "      <td>1</td>\n",
       "      <td>1</td>\n",
       "      <td>1</td>\n",
       "    </tr>\n",
       "    <tr>\n",
       "      <th>351</th>\n",
       "      <td>100</td>\n",
       "      <td>3.0</td>\n",
       "      <td>1.0</td>\n",
       "      <td>1</td>\n",
       "      <td>2</td>\n",
       "      <td>0.405465</td>\n",
       "      <td>-4.605170</td>\n",
       "      <td>0.000000</td>\n",
       "      <td>1</td>\n",
       "      <td>1</td>\n",
       "      <td>1</td>\n",
       "      <td>1</td>\n",
       "      <td>1</td>\n",
       "      <td>1</td>\n",
       "    </tr>\n",
       "    <tr>\n",
       "      <th>3003</th>\n",
       "      <td>100</td>\n",
       "      <td>3.0</td>\n",
       "      <td>1.0</td>\n",
       "      <td>1</td>\n",
       "      <td>6</td>\n",
       "      <td>0.000000</td>\n",
       "      <td>8.006368</td>\n",
       "      <td>0.000000</td>\n",
       "      <td>0</td>\n",
       "      <td>1</td>\n",
       "      <td>1</td>\n",
       "      <td>1</td>\n",
       "      <td>0</td>\n",
       "      <td>1</td>\n",
       "    </tr>\n",
       "  </tbody>\n",
       "</table>\n",
       "</div>"
      ],
      "text/plain": [
       "      host_response_rate  neighbourhood_cleansed  property_type  room_type  \\\n",
       "6906                  99                     3.0            2.0          1   \n",
       "3141                  98                     0.0            0.0          1   \n",
       "7244                 100                     3.0            0.0          0   \n",
       "351                  100                     3.0            1.0          1   \n",
       "3003                 100                     3.0            1.0          1   \n",
       "\n",
       "      accommodates  bathrooms  cleaning_fee  minimum_nights  instant_bookable  \\\n",
       "6906             3   0.693147      8.294050        0.000000                 1   \n",
       "3141             2   0.000000      8.160518        0.693147                 0   \n",
       "7244             3   0.405465      8.517193        0.000000                 1   \n",
       "351              2   0.405465     -4.605170        0.000000                 1   \n",
       "3003             6   0.000000      8.006368        0.000000                 0   \n",
       "\n",
       "      kitchen  smoke_detector  self_check_in  hot_water  local_host  \n",
       "6906        0               1              0          0           0  \n",
       "3141        1               1              1          1           1  \n",
       "7244        1               0              1          1           1  \n",
       "351         1               1              1          1           1  \n",
       "3003        1               1              1          0           1  "
      ]
     },
     "execution_count": 8,
     "metadata": {},
     "output_type": "execute_result"
    }
   ],
   "source": [
    "X_train_price.head()"
   ]
  },
  {
   "cell_type": "code",
   "execution_count": 9,
   "metadata": {},
   "outputs": [
    {
     "data": {
      "text/plain": [
       "3    8.854665\n",
       "6    9.102421\n",
       "7    8.545781\n",
       "8    9.195531\n",
       "9    8.790117\n",
       "Name: price, dtype: float64"
      ]
     },
     "execution_count": 9,
     "metadata": {},
     "output_type": "execute_result"
    }
   ],
   "source": [
    "y_price.head()"
   ]
  },
  {
   "cell_type": "code",
   "execution_count": 10,
   "metadata": {},
   "outputs": [
    {
     "name": "stdout",
     "output_type": "stream",
     "text": [
      "[20:10:00] WARNING: src/objective/regression_obj.cu:152: reg:linear is now deprecated in favor of reg:squarederror.\n",
      "\n",
      "Training MSE: 0.365\n",
      "Validation MSE: 0.342\n"
     ]
    }
   ],
   "source": [
    "import xgboost as xgb\n",
    "from sklearn.metrics import mean_squared_error,r2_score,explained_variance_score\n",
    "\n",
    "xgb_reg = xgb.XGBRegressor()\n",
    "xgb_reg.fit(X_train_price, y_train_price)\n",
    "training_preds_xgb_reg = xgb_reg.predict(X_train_price)\n",
    "val_preds_xgb_reg = xgb_reg.predict(X_test_price)\n",
    "\n",
    "print(\"\\nTraining MSE:\", round(mean_squared_error(y_train_price, training_preds_xgb_reg),3))\n",
    "print(\"Validation MSE:\", round(mean_squared_error(y_test_price, val_preds_xgb_reg),3))"
   ]
  },
  {
   "cell_type": "code",
   "execution_count": 11,
   "metadata": {},
   "outputs": [
    {
     "name": "stdout",
     "output_type": "stream",
     "text": [
      "\n",
      "Training r2: 0.543\n",
      "Validation r2: 0.525\n"
     ]
    }
   ],
   "source": [
    "print(\"\\nTraining r2:\", round(r2_score(y_train_price, training_preds_xgb_reg),3))\n",
    "print(\"Validation r2:\", round(r2_score(y_test_price, val_preds_xgb_reg),3))"
   ]
  },
  {
   "cell_type": "code",
   "execution_count": 12,
   "metadata": {},
   "outputs": [],
   "source": [
    "ft_weights_xgb_reg = pd.DataFrame(xgb_reg.feature_importances_, columns=['weight'], index=X_train_price.columns)\n",
    "ft_weights_xgb_reg.sort_values('weight', inplace=True)\n",
    "#ft_weights_xgb_reg"
   ]
  },
  {
   "cell_type": "code",
   "execution_count": 13,
   "metadata": {},
   "outputs": [
    {
     "data": {
      "image/png": "[encoded data removed]",
      "text/plain": [
       "<Figure size 576x2304 with 1 Axes>"
      ]
     },
     "metadata": {
      "needs_background": "light"
     },
     "output_type": "display_data"
    }
   ],
   "source": [
    "# Drop feature weights of 0 \n",
    "ft_weights_xgb_reg = ft_weights_xgb_reg[(ft_weights_xgb_reg != 0).all(1)]\n",
    "\n",
    "# Plotting feature importances\n",
    "import matplotlib.pyplot as plt\n",
    "plt.figure(figsize=(8,32))\n",
    "plt.barh(ft_weights_xgb_reg.index, ft_weights_xgb_reg.weight, align='center') \n",
    "plt.title(\"Feature importances in the XGBoost model\", fontsize=14)\n",
    "plt.xlabel(\"Feature importance\")\n",
    "plt.margins(y=0.01)\n",
    "plt.show()"
   ]
  },
  {
   "cell_type": "code",
   "execution_count": 14,
   "metadata": {},
   "outputs": [],
   "source": [
    "import pickle \n",
    "\n",
    "# Pickle the darn thing! 🥒\n",
    "model_name = '/Users/karthikmahendra/Desktop/AirBnB/ABB.pkl' # path to where you want the file\n",
    "pickle.dump(xgb_reg, open(model_name, 'wb')) # kitty = the name of your model "
   ]
  },
  {
   "cell_type": "code",
   "execution_count": 15,
   "metadata": {},
   "outputs": [],
   "source": [
    "X_tst = X_train_price[:1]\n",
    "y_tst = y_train_price[:1]"
   ]
  },
  {
   "cell_type": "code",
   "execution_count": 16,
   "metadata": {},
   "outputs": [
    {
     "data": {
      "text/plain": [
       "6906    6021.0\n",
       "Name: price, dtype: float64"
      ]
     },
     "execution_count": 16,
     "metadata": {},
     "output_type": "execute_result"
    }
   ],
   "source": [
    "np.exp(y_tst)"
   ]
  },
  {
   "cell_type": "code",
   "execution_count": 17,
   "metadata": {},
   "outputs": [
    {
     "name": "stdout",
     "output_type": "stream",
     "text": [
      "[20:10:16] WARNING: src/objective/regression_obj.cu:152: reg:linear is now deprecated in favor of reg:squarederror.\n",
      "[7739.2393]\n"
     ]
    }
   ],
   "source": [
    "loaded_model = pickle.load(open(model_name, 'rb'))\n",
    "result = np.exp(loaded_model.predict(X_tst))\n",
    "print (result)"
   ]
  },
  {
   "cell_type": "code",
   "execution_count": null,
   "metadata": {},
   "outputs": [],
   "source": [
    "df.shape"
   ]
  },
  {
   "cell_type": "code",
   "execution_count": null,
   "metadata": {},
   "outputs": [],
   "source": [
    "X_price.shape"
   ]
  },
  {
   "cell_type": "code",
   "execution_count": null,
   "metadata": {},
   "outputs": [],
   "source": [
    "(X_tst)"
   ]
  },
  {
   "cell_type": "code",
   "execution_count": null,
   "metadata": {},
   "outputs": [],
   "source": []
  }
 ],
 "metadata": {
  "kernelspec": {
   "display_name": "Python 3",
   "language": "python",
   "name": "python3"
  },
  "language_info": {
   "codemirror_mode": {
    "name": "ipython",
    "version": 3
   },
   "file_extension": ".py",
   "mimetype": "text/x-python",
   "name": "python",
   "nbconvert_exporter": "python",
   "pygments_lexer": "ipython3",
   "version": "3.7.3"
  }
 },
 "nbformat": 4,
 "nbformat_minor": 2
}
